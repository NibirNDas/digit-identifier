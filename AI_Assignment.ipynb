{
  "nbformat": 4,
  "nbformat_minor": 0,
  "metadata": {
    "colab": {
      "name": "AI_Assignment.ipynb",
      "version": "0.3.2",
      "views": {},
      "default_view": {},
      "provenance": [],
      "toc_visible": true
    },
    "kernelspec": {
      "name": "python3",
      "display_name": "Python 3"
    },
    "accelerator": "GPU"
  },
  "cells": [
    {
      "metadata": {
        "id": "Dye67_RK7e8z",
        "colab_type": "code",
        "colab": {
          "autoexec": {
            "startup": false,
            "wait_interval": 0
          }
        }
      },
      "cell_type": "code",
      "source": [
        "#  Submitted by \n",
        "#  Nibir (14CO230)\n",
        "\n",
        "\n",
        "!pip install -q keras\n"
      ],
      "execution_count": 0,
      "outputs": []
    },
    {
      "metadata": {
        "id": "HXupBX5z8vTB",
        "colab_type": "code",
        "colab": {
          "autoexec": {
            "startup": false,
            "wait_interval": 0
          }
        }
      },
      "cell_type": "code",
      "source": [
        "from __future__ import print_function\n",
        "\n",
        "import keras\n",
        "from keras.datasets import mnist\n",
        "from keras.models import Sequential\n",
        "from keras.layers import Dense, Dropout\n",
        "import keras.optimizers\n",
        "\n",
        "batch_size = 128\n",
        "num_classes = 10\n",
        "epochs = 20\n"
      ],
      "execution_count": 0,
      "outputs": []
    },
    {
      "metadata": {
        "id": "TabTu9nM8MlJ",
        "colab_type": "code",
        "colab": {
          "autoexec": {
            "startup": false,
            "wait_interval": 0
          },
          "output_extras": [
            {
              "item_id": 3
            }
          ],
          "base_uri": "https://localhost:8080/",
          "height": 88
        },
        "outputId": "b39adbe3-cbaa-41a2-c093-db3a46101c81",
        "executionInfo": {
          "status": "ok",
          "timestamp": 1520288865929,
          "user_tz": -330,
          "elapsed": 3988,
          "user": {
            "displayName": "Sushaanth P",
            "photoUrl": "//lh3.googleusercontent.com/-5DOMFFhuRUI/AAAAAAAAAAI/AAAAAAAABLA/i4jrqUMsvgE/s50-c-k-no/photo.jpg",
            "userId": "106042797218789126709"
          }
        }
      },
      "cell_type": "code",
      "source": [
        "# the data, split between train and test sets\n",
        "(x_train, y_train), (x_test, y_test) = mnist.load_data()\n",
        "\n",
        "x_train = x_train.reshape(60000, 784)\n",
        "x_test = x_test.reshape(10000, 784)\n",
        "x_train = x_train.astype('float32')\n",
        "x_test = x_test.astype('float32')\n",
        "x_train /= 255\n",
        "x_test /= 255\n",
        "print(x_train.shape[0], 'train samples')\n",
        "print(x_test.shape[0], 'test samples')\n",
        "\n"
      ],
      "execution_count": 3,
      "outputs": [
        {
          "output_type": "stream",
          "text": [
            "Downloading data from https://s3.amazonaws.com/img-datasets/mnist.npz\n",
            "11493376/11490434 [==============================] - 1s 0us/step\n",
            "60000 train samples\n",
            "10000 test samples\n"
          ],
          "name": "stdout"
        }
      ]
    },
    {
      "metadata": {
        "id": "M0Fo9huK8RcV",
        "colab_type": "code",
        "colab": {
          "autoexec": {
            "startup": false,
            "wait_interval": 0
          }
        }
      },
      "cell_type": "code",
      "source": [
        "# changing to binary class matrices from class vectors \n",
        "y_train = keras.utils.to_categorical(y_train, num_classes)\n",
        "y_test = keras.utils.to_categorical(y_test, num_classes)\n",
        "\n"
      ],
      "execution_count": 0,
      "outputs": []
    },
    {
      "metadata": {
        "id": "UFC5kEZx8ReO",
        "colab_type": "code",
        "colab": {
          "autoexec": {
            "startup": false,
            "wait_interval": 0
          },
          "output_extras": [
            {
              "item_id": 1
            }
          ],
          "base_uri": "https://localhost:8080/",
          "height": 248
        },
        "outputId": "0f341ed3-37c5-47b9-b894-9d2ee8f76295",
        "executionInfo": {
          "status": "ok",
          "timestamp": 1520288868727,
          "user_tz": -330,
          "elapsed": 2076,
          "user": {
            "displayName": "Sushaanth P",
            "photoUrl": "//lh3.googleusercontent.com/-5DOMFFhuRUI/AAAAAAAAAAI/AAAAAAAABLA/i4jrqUMsvgE/s50-c-k-no/photo.jpg",
            "userId": "106042797218789126709"
          }
        }
      },
      "cell_type": "code",
      "source": [
        "model = Sequential()\n",
        "model.add(Dense(512, activation='relu', input_shape=(784,)))\n",
        "model.add(Dense(512, activation='relu'))\n",
        "model.add(Dense(num_classes, activation='softmax'))\n",
        "\n",
        "model.summary()\n",
        "\n"
      ],
      "execution_count": 5,
      "outputs": [
        {
          "output_type": "stream",
          "text": [
            "_________________________________________________________________\n",
            "Layer (type)                 Output Shape              Param #   \n",
            "=================================================================\n",
            "dense_1 (Dense)              (None, 512)               401920    \n",
            "_________________________________________________________________\n",
            "dense_2 (Dense)              (None, 512)               262656    \n",
            "_________________________________________________________________\n",
            "dense_3 (Dense)              (None, 10)                5130      \n",
            "=================================================================\n",
            "Total params: 669,706\n",
            "Trainable params: 669,706\n",
            "Non-trainable params: 0\n",
            "_________________________________________________________________\n"
          ],
          "name": "stdout"
        }
      ]
    },
    {
      "metadata": {
        "id": "Gz3ktS2p8Rh7",
        "colab_type": "code",
        "colab": {
          "autoexec": {
            "startup": false,
            "wait_interval": 0
          },
          "output_extras": [
            {
              "item_id": 28
            },
            {
              "item_id": 50
            },
            {
              "item_id": 66
            },
            {
              "item_id": 96
            },
            {
              "item_id": 102
            }
          ],
          "base_uri": "https://localhost:8080/",
          "height": 801
        },
        "outputId": "730ab97b-2278-41f2-ca82-c414cbf1b716",
        "executionInfo": {
          "status": "ok",
          "timestamp": 1520288989217,
          "user_tz": -330,
          "elapsed": 56821,
          "user": {
            "displayName": "Sushaanth P",
            "photoUrl": "//lh3.googleusercontent.com/-5DOMFFhuRUI/AAAAAAAAAAI/AAAAAAAABLA/i4jrqUMsvgE/s50-c-k-no/photo.jpg",
            "userId": "106042797218789126709"
          }
        }
      },
      "cell_type": "code",
      "source": [
        "rmsprop = keras.optimizers.RMSprop(lr=0.001, rho=0.9, epsilon=None, decay=0.0)\n",
        "\n",
        "model.compile(loss='categorical_crossentropy',\n",
        "              optimizer=rmsprop,\n",
        "              metrics=['accuracy'])\n",
        "\n",
        "history = model.fit(x_train, y_train,\n",
        "                    batch_size=batch_size,\n",
        "                    epochs=epochs,\n",
        "                    verbose=1,\n",
        "                    validation_data=(x_test, y_test))\n",
        "score = model.evaluate(x_test, y_test, verbose=0)\n",
        "print('Test loss:', score[0])\n",
        "print('Test accuracy:', score[1])"
      ],
      "execution_count": 9,
      "outputs": [
        {
          "output_type": "stream",
          "text": [
            "Train on 60000 samples, validate on 10000 samples\n",
            "Epoch 1/20\n",
            "60000/60000 [==============================] - 3s 43us/step - loss: 0.0116 - acc: 0.9966 - val_loss: 0.1175 - val_acc: 0.9803\n",
            "Epoch 2/20\n",
            "60000/60000 [==============================] - 3s 46us/step - loss: 0.0105 - acc: 0.9973 - val_loss: 0.1299 - val_acc: 0.9798\n",
            "Epoch 3/20\n",
            "60000/60000 [==============================] - 3s 46us/step - loss: 0.0092 - acc: 0.9974 - val_loss: 0.1140 - val_acc: 0.9828\n",
            "Epoch 4/20\n",
            "60000/60000 [==============================] - 3s 47us/step - loss: 0.0088 - acc: 0.9976 - val_loss: 0.1325 - val_acc: 0.9815\n",
            "Epoch 5/20\n",
            "47104/60000 [======================>.......] - ETA: 0s - loss: 0.0074 - acc: 0.9981"
          ],
          "name": "stdout"
        },
        {
          "output_type": "stream",
          "text": [
            "60000/60000 [==============================] - 3s 46us/step - loss: 0.0075 - acc: 0.9981 - val_loss: 0.1300 - val_acc: 0.9821\n",
            "Epoch 6/20\n",
            "60000/60000 [==============================] - 3s 48us/step - loss: 0.0063 - acc: 0.9982 - val_loss: 0.1427 - val_acc: 0.9799\n",
            "Epoch 7/20\n",
            "60000/60000 [==============================] - 3s 47us/step - loss: 0.0068 - acc: 0.9981 - val_loss: 0.1247 - val_acc: 0.9830\n",
            "Epoch 8/20\n",
            "60000/60000 [==============================] - 3s 46us/step - loss: 0.0061 - acc: 0.9985 - val_loss: 0.1529 - val_acc: 0.9807\n",
            "Epoch 9/20\n",
            "60000/60000 [==============================] - 3s 45us/step - loss: 0.0052 - acc: 0.9986 - val_loss: 0.1478 - val_acc: 0.9807\n",
            "Epoch 10/20\n",
            "15744/60000 [======>.......................] - ETA: 1s - loss: 0.0034 - acc: 0.9994"
          ],
          "name": "stdout"
        },
        {
          "output_type": "stream",
          "text": [
            "60000/60000 [==============================] - 3s 46us/step - loss: 0.0052 - acc: 0.9988 - val_loss: 0.1462 - val_acc: 0.9820\n",
            "Epoch 11/20\n",
            "60000/60000 [==============================] - 3s 46us/step - loss: 0.0055 - acc: 0.9985 - val_loss: 0.1355 - val_acc: 0.9828\n",
            "Epoch 12/20\n",
            "60000/60000 [==============================] - 3s 46us/step - loss: 0.0040 - acc: 0.9991 - val_loss: 0.1567 - val_acc: 0.9819\n",
            "Epoch 13/20\n",
            "60000/60000 [==============================] - 3s 45us/step - loss: 0.0061 - acc: 0.9987 - val_loss: 0.1667 - val_acc: 0.9813\n",
            "Epoch 14/20\n",
            "60000/60000 [==============================] - 3s 47us/step - loss: 0.0045 - acc: 0.9989 - val_loss: 0.1442 - val_acc: 0.9842\n",
            "Epoch 15/20\n",
            " 9856/60000 [===>..........................] - ETA: 2s - loss: 0.0020 - acc: 0.9995"
          ],
          "name": "stdout"
        },
        {
          "output_type": "stream",
          "text": [
            "60000/60000 [==============================] - 3s 46us/step - loss: 0.0033 - acc: 0.9992 - val_loss: 0.1644 - val_acc: 0.9804\n",
            "Epoch 16/20\n",
            "60000/60000 [==============================] - 3s 46us/step - loss: 0.0037 - acc: 0.9991 - val_loss: 0.1539 - val_acc: 0.9820\n",
            "Epoch 17/20\n",
            "60000/60000 [==============================] - 3s 47us/step - loss: 0.0047 - acc: 0.9991 - val_loss: 0.1607 - val_acc: 0.9809\n",
            "Epoch 18/20\n",
            "60000/60000 [==============================] - 3s 46us/step - loss: 0.0039 - acc: 0.9991 - val_loss: 0.1539 - val_acc: 0.9835\n",
            "Epoch 19/20\n",
            "60000/60000 [==============================] - 3s 45us/step - loss: 0.0037 - acc: 0.9991 - val_loss: 0.1699 - val_acc: 0.9810\n",
            "Epoch 20/20\n",
            "13312/60000 [=====>........................] - ETA: 2s - loss: 0.0053 - acc: 0.9987"
          ],
          "name": "stdout"
        },
        {
          "output_type": "stream",
          "text": [
            "60000/60000 [==============================] - 3s 47us/step - loss: 0.0044 - acc: 0.9990 - val_loss: 0.1656 - val_acc: 0.9821\n",
            "Test loss: 0.1656317656028589\n",
            "Test accuracy: 0.9821\n"
          ],
          "name": "stdout"
        }
      ]
    },
    {
      "metadata": {
        "id": "Q1NuQlXK8Z5i",
        "colab_type": "code",
        "colab": {
          "autoexec": {
            "startup": false,
            "wait_interval": 0
          },
          "output_extras": [
            {
              "item_id": 1
            }
          ],
          "base_uri": "https://localhost:8080/",
          "height": 52
        },
        "outputId": "c6bf58d9-5db8-4e7b-aabe-8e732f551735",
        "executionInfo": {
          "status": "ok",
          "timestamp": 1520288993025,
          "user_tz": -330,
          "elapsed": 867,
          "user": {
            "displayName": "Sushaanth P",
            "photoUrl": "//lh3.googleusercontent.com/-5DOMFFhuRUI/AAAAAAAAAAI/AAAAAAAABLA/i4jrqUMsvgE/s50-c-k-no/photo.jpg",
            "userId": "106042797218789126709"
          }
        }
      },
      "cell_type": "code",
      "source": [
        "print('Test loss:', score[0])\n",
        "print('Test accuracy:', score[1])"
      ],
      "execution_count": 10,
      "outputs": [
        {
          "output_type": "stream",
          "text": [
            "Test loss: 0.1656317656028589\n",
            "Test accuracy: 0.9821\n"
          ],
          "name": "stdout"
        }
      ]
    }
  ]
}